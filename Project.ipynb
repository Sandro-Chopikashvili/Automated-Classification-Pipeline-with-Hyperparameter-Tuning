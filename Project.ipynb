{
 "cells": [
  {
   "cell_type": "markdown",
   "id": "ad472d30",
   "metadata": {},
   "source": [
    "## Importing Necessary Libraries for Machine Learning Pipeline\n"
   ]
  },
  {
   "cell_type": "code",
   "execution_count": 5,
   "id": "2817eb3c",
   "metadata": {},
   "outputs": [],
   "source": [
    "import pandas as pd\n",
    "import numpy as np\n",
    "from sklearn.model_selection import train_test_split\n",
    "from sklearn.preprocessing import StandardScaler         \n",
    "from sklearn.preprocessing import OneHotEncoder          \n",
    "from sklearn.impute import SimpleImputer                \n",
    "from sklearn.pipeline import Pipeline\n",
    "from sklearn.compose import ColumnTransformer\n",
    "from sklearn.linear_model import LogisticRegression\n",
    "from sklearn.ensemble import RandomForestClassifier\n",
    "from sklearn.svm import SVC\n",
    "from sklearn.neighbors import KNeighborsClassifier\n",
    "from sklearn.tree import DecisionTreeClassifier\n",
    "from sklearn.naive_bayes import GaussianNB\n",
    "from sklearn.metrics import accuracy_score, confusion_matrix, classification_report\n",
    "from sklearn.metrics import roc_auc_score, roc_curve\n",
    "from sklearn.model_selection import GridSearchCV, RandomizedSearchCV\n",
    "from sklearn.model_selection import RandomizedSearchCV\n",
    "from scipy.stats import randint, uniform"
   ]
  },
  {
   "cell_type": "code",
   "execution_count": 2,
   "id": "571b3313",
   "metadata": {},
   "outputs": [],
   "source": [
    "df = pd.read_csv('binary_classifier_dataset.csv')"
   ]
  },
  {
   "cell_type": "markdown",
   "id": "40de8f0c",
   "metadata": {},
   "source": [
    "## Automated Classification Pipeline with Hyperparameter Tuning\n"
   ]
  },
  {
   "cell_type": "code",
   "execution_count": 3,
   "id": "338f6c8e",
   "metadata": {},
   "outputs": [],
   "source": [
    "def model(dataset):\n",
    "    X_list = []\n",
    "    y_list = []\n",
    "    for _ in dataset.columns:\n",
    "        if len(dataset[_].unique()) == 2 and dataset[_].isna().sum() == 0:\n",
    "            y_list.append(_)\n",
    "        else: \n",
    "            X_list.append(_)\n",
    "\n",
    "    X = dataset[X_list]\n",
    "    y = dataset[y_list]\n",
    "\n",
    "    X_train, X_test, y_train, y_test = train_test_split(X, y, train_size=0.8, random_state=123)\n",
    "\n",
    "    categorical_cols = dataset.select_dtypes('object').columns.tolist()\n",
    "    numerical_cols = dataset.select_dtypes(include='number').columns.tolist()\n",
    "\n",
    "    y_dtype = y[y.columns[0]].dtype\n",
    "\n",
    "    if y_dtype == 'object':\n",
    "        categorical_cols.remove(y_list[0])\n",
    "    elif y_dtype in ['int8', 'int16', 'int32', 'int64','uint8', 'uint16', 'uint32', 'uint64','float16', 'float32', 'float64','complex64', 'complex128','bool']:\n",
    "        numerical_cols.remove(y_list[0])\n",
    "\n",
    "    if dataset[numerical_cols].isna().sum().sum() > 0:\n",
    "        numerical_pipeline = Pipeline([\n",
    "            ('SimpleImputer', SimpleImputer(strategy='median')),\n",
    "            ('StandardScaler', StandardScaler())\n",
    "        ])\n",
    "    else:\n",
    "        numerical_pipeline = Pipeline([\n",
    "            ('StandardScaler', StandardScaler())\n",
    "        ])\n",
    "\n",
    "    if dataset[categorical_cols].isna().sum().sum() > 0:\n",
    "        categorical_pipeline = Pipeline([\n",
    "            ('SimpleImputer', SimpleImputer(strategy='most_frequent')),\n",
    "            ('OneHotEncoder', OneHotEncoder(handle_unknown='ignore'))\n",
    "        ])\n",
    "    else:\n",
    "        categorical_pipeline = Pipeline([\n",
    "            ('OneHotEncoder', OneHotEncoder(handle_unknown='ignore'))\n",
    "        ])\n",
    "    \n",
    "    preprocessor = ColumnTransformer(transformers=[\n",
    "        ('categorical_cols', categorical_pipeline, categorical_cols),\n",
    "        ('numerical_cols', numerical_pipeline, numerical_cols)\n",
    "    ])\n",
    "\n",
    "    param_grids = {\n",
    "        'LogisticRegression': {\n",
    "            'model__C': uniform(0.01, 10),\n",
    "            'model__penalty': ['l2'],  \n",
    "            'model__solver': ['lbfgs', 'saga'],\n",
    "            'model__max_iter': [100, 200, 500]\n",
    "        },\n",
    "        'RandomForestClassifier': {\n",
    "            'model__n_estimators': randint(50, 200),\n",
    "            'model__max_depth': randint(2, 20),\n",
    "            'model__min_samples_split': randint(2, 10),\n",
    "            'model__min_samples_leaf': randint(1, 10)\n",
    "        },\n",
    "        'KNeighborsClassifier': {\n",
    "            'model__n_neighbors': randint(1, 30),\n",
    "            'model__weights': ['uniform', 'distance'],\n",
    "            'model__p': [1, 2] \n",
    "        }\n",
    "    }\n",
    "\n",
    "    for clf_model in [LogisticRegression(), RandomForestClassifier(), KNeighborsClassifier()]:\n",
    "        model_name = clf_model.__class__.__name__\n",
    "\n",
    "        pipe = Pipeline([\n",
    "            ('preprocessor', preprocessor),\n",
    "            ('model', clf_model)\n",
    "        ])\n",
    "\n",
    "        param_dist = param_grids[model_name]\n",
    "\n",
    "        search = RandomizedSearchCV(pipe, param_distributions=param_dist, \n",
    "                                    n_iter=20, scoring='accuracy', \n",
    "                                    cv=5, random_state=123, n_jobs=-1)\n",
    "\n",
    "        search.fit(X_train, y_train.values.ravel())\n",
    "\n",
    "        print(f\"Best {model_name} accuracy: {search.best_score_:.4f}\")\n",
    "        print(f\"Best {model_name} params: {search.best_params_}\")\n",
    "\n",
    "        y_pred = search.predict(X_test)\n",
    "        print(f\"Test accuracy for best {model_name}: {accuracy_score(y_test, y_pred):.4f}\\n\")\n"
   ]
  },
  {
   "cell_type": "markdown",
   "id": "246b9dae",
   "metadata": {},
   "source": [
    "## Testing the Model Function\n"
   ]
  },
  {
   "cell_type": "code",
   "execution_count": 4,
   "id": "2f9ac11f",
   "metadata": {},
   "outputs": [
    {
     "name": "stdout",
     "output_type": "stream",
     "text": [
      "Best LogisticRegression accuracy: 0.5975\n",
      "Best LogisticRegression params: {'model__C': np.float64(6.974691855978616), 'model__max_iter': 500, 'model__penalty': 'l2', 'model__solver': 'lbfgs'}\n",
      "Test accuracy for best LogisticRegression: 0.5250\n",
      "\n",
      "Best RandomForestClassifier accuracy: 0.6088\n",
      "Best RandomForestClassifier params: {'model__max_depth': 9, 'model__min_samples_leaf': 3, 'model__min_samples_split': 6, 'model__n_estimators': 97}\n",
      "Test accuracy for best RandomForestClassifier: 0.5050\n",
      "\n",
      "Best KNeighborsClassifier accuracy: 0.5988\n",
      "Best KNeighborsClassifier params: {'model__n_neighbors': 8, 'model__p': 1, 'model__weights': 'uniform'}\n",
      "Test accuracy for best KNeighborsClassifier: 0.5200\n",
      "\n"
     ]
    }
   ],
   "source": [
    "model(df)"
   ]
  }
 ],
 "metadata": {
  "kernelspec": {
   "display_name": "Python 3",
   "language": "python",
   "name": "python3"
  },
  "language_info": {
   "codemirror_mode": {
    "name": "ipython",
    "version": 3
   },
   "file_extension": ".py",
   "mimetype": "text/x-python",
   "name": "python",
   "nbconvert_exporter": "python",
   "pygments_lexer": "ipython3",
   "version": "3.11.9"
  }
 },
 "nbformat": 4,
 "nbformat_minor": 5
}
